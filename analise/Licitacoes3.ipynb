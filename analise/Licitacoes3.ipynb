{
 "cells": [
  {
   "cell_type": "code",
   "execution_count": 1,
   "metadata": {
    "collapsed": false
   },
   "outputs": [],
   "source": [
    "import math\n",
    "import nltk \n",
    "from  nltk.corpus import stopwords\n",
    "from gensim.models.doc2vec import Doc2Vec, TaggedDocument\n",
    "\n",
    "stopwords_en = stopwords.words('english')\n",
    "corpus = []\n",
    "word_set = set()\n",
    "\n",
    "def preprocessing(raw):\n",
    "    wordlist = nltk.word_tokenize(raw)\n",
    "    text = [w.lower() for w in wordlist if w not in stopwords_en]\n",
    "    return text"
   ]
  },
  {
   "cell_type": "code",
   "execution_count": 2,
   "metadata": {
    "collapsed": false
   },
   "outputs": [],
   "source": [
    "# TF-IDF calculations\n",
    "def custom_tfidf(texts):\n",
    "    # TF calculations\n",
    "    text_tf_dict = {}\n",
    "    for idx, text in enumerate(texts):\n",
    "        freqd_text = FreqDist(text)\n",
    "        text_length = len(text)\n",
    "        text_tf_dict[idx] = dict.fromkeys(word_set,0)\n",
    "        for word in text:\n",
    "            text_tf_dict[idx][word] = freqd_text[word]/text_length\n",
    "\n",
    "    # IDF calculations\n",
    "    text_idf_dict = dict.fromkeys(word_set,0)\n",
    "    for word in text_idf_dict.keys():\n",
    "        for text in texts:\n",
    "            if word in text:\n",
    "                text_idf_dict[word] += 1\n",
    "        \n",
    "    text_length = 3 # UPDATE: 2 documents for now\n",
    "    for word, val in text_idf_dict.items():\n",
    "        text_idf_dict[word] = 1 + math.log(text_length/(float(val)))\n",
    "    \n",
    "    # TF-IDF calculations = (TF of the word) * (IDF of the word)\n",
    "    text_tfidf_dict = {}\n",
    "    for idx, text in enumerate(texts):\n",
    "        text_tfidf_dict[idx] = dict.fromkeys(word_set,0)\n",
    "        for word in text:\n",
    "            text_tfidf_dict[idx][word] = (text_tf_dict[idx][word])*(text_idf_dict[word])\n",
    "    return text_tfidf_dict"
   ]
  },
  {
   "cell_type": "code",
   "execution_count": 9,
   "metadata": {
    "collapsed": false
   },
   "outputs": [],
   "source": [
    "# Doc2Vec\n",
    "def custom_Doc2Vec(taggeddocs):\n",
    "    # Building the model\n",
    "    model = Doc2Vec(taggeddocs, dm=0, alpha=0.025, size=20, min_alpha=0.025, min_count=0)\n",
    "\n",
    "    # Training\n",
    "    total_epochs = 80\n",
    "    total_docs = len(taggeddocs)\n",
    "    for epoch in range(total_epochs):\n",
    "        if epoch % 20 == 0:\n",
    "            print('Now training epoch %s' % epoch)\n",
    "        model.train(taggeddocs, total_examples=total_epochs, epochs=total_epochs)\n",
    "        model.alpha -= 0.002 # decrease the learning rate\n",
    "        model.min_alpha = model.alpha # fix the learning rate, no decay\n",
    "    \n",
    "    return model"
   ]
  },
  {
   "cell_type": "code",
   "execution_count": 45,
   "metadata": {
    "collapsed": false
   },
   "outputs": [
    {
     "name": "stdout",
     "output_type": "stream",
     "text": [
      "Now training epoch 0\n",
      "Now training epoch 20\n",
      "Now training epoch 40\n",
      "Now training epoch 60\n",
      "Similarity Index: 95.96 %\n",
      "Similarity Index: 79.81 %\n"
     ]
    }
   ],
   "source": [
    "f1 = open('./input/buscrash_1.txt', 'r', encoding='utf8')\n",
    "text1 = preprocessing(f1.read())\n",
    "corpus.append(text1)\n",
    "\n",
    "f2 = open('./input/buscrash_2.txt', 'r', encoding='utf8')\n",
    "text2 = preprocessing(f2.read())\n",
    "corpus.append(text2)\n",
    "\n",
    "f3 = open('./input/buscrash_3.txt', 'r', encoding='utf8')\n",
    "text3 = preprocessing(f3.read())\n",
    "corpus.append(text3)\n",
    "\n",
    "for text in corpus:\n",
    "    word_set = word_set.union(set(text))\n",
    "    \n",
    "text_tfidf_dict = custom_tfidf(corpus)\n",
    "v1 = list(text_tfidf_dict[0].values())\n",
    "v2 = list(text_tfidf_dict[1].values())\n",
    "v3 = list(text_tfidf_dict[2].values())\n",
    "\n",
    "taggeddocs = []\n",
    "doc1 = TaggedDocument(words=text1, tags=[u'NEWS_1'])\n",
    "doc2 = TaggedDocument(words=text2, tags=[u'NEWS_2'])\n",
    "doc3 = TaggedDocument(words=text3, tags=[u'NEWS_3'])\n",
    "taggeddocs.append(doc1)\n",
    "taggeddocs.append(doc2)\n",
    "taggeddocs.append(doc3)\n",
    "model = custom_Doc2Vec(taggeddocs)\n",
    "\n",
    "# Comput Cosine distances\n",
    "similarity_tfidf = 1 - nltk.cluster.cosine_distance(v1, v2)\n",
    "print('Similarity Index: {:4.2f} %'.format(similarity_tfidf*100))\n",
    "similarity_vec = model.n_similarity(text1, text2)\n",
    "print('Similarity Index: {:4.2f} %'.format(similarity_vec*100))"
   ]
  },
  {
   "cell_type": "code",
   "execution_count": 52,
   "metadata": {
    "collapsed": false
   },
   "outputs": [
    {
     "name": "stdout",
     "output_type": "stream",
     "text": [
      "Similarity Index: 47.88 %\n"
     ]
    }
   ],
   "source": [
    "similarity_vec = model.n_similarity(text1, text3)\n",
    "print('Similarity Index: {:4.2f} %'.format(similarity_vec*100))"
   ]
  },
  {
   "cell_type": "code",
   "execution_count": null,
   "metadata": {
    "collapsed": true
   },
   "outputs": [],
   "source": []
  }
 ],
 "metadata": {
  "kernelspec": {
   "display_name": "Python 3",
   "language": "python",
   "name": "python3"
  },
  "language_info": {
   "codemirror_mode": {
    "name": "ipython",
    "version": 3
   },
   "file_extension": ".py",
   "mimetype": "text/x-python",
   "name": "python",
   "nbconvert_exporter": "python",
   "pygments_lexer": "ipython3",
   "version": "3.6.0"
  }
 },
 "nbformat": 4,
 "nbformat_minor": 2
}
